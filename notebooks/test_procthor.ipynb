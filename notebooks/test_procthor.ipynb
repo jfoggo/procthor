{
 "cells": [
  {
   "cell_type": "code",
   "execution_count": null,
   "id": "6de90416-95ed-45e8-90b2-c401df773e4e",
   "metadata": {},
   "outputs": [],
   "source": [
    "import copy\n",
    "import random\n",
    "import prior\n",
    "import matplotlib.pyplot as plt\n",
    "\n",
    "from PIL import Image\n",
    "from ai2thor.controller import Controller"
   ]
  },
  {
   "cell_type": "code",
   "execution_count": null,
   "id": "a4f87beb-89dd-4585-8ad2-bf7b570459e5",
   "metadata": {},
   "outputs": [],
   "source": [
    "random.seed(0)"
   ]
  },
  {
   "cell_type": "markdown",
   "id": "ef7813d5-963d-4c1b-aca5-cbe9f1fe7465",
   "metadata": {},
   "source": [
    "## Acquire pre-constructed dataset\n",
    "Datasets are located in `~/.prior/`"
   ]
  },
  {
   "cell_type": "code",
   "execution_count": null,
   "id": "d717e21a-65ee-4902-ae5b-9e75d3ffd62c",
   "metadata": {},
   "outputs": [],
   "source": [
    "dataset = prior.load_dataset(\"procthor-10k\")\n",
    "dataset"
   ]
  },
  {
   "cell_type": "markdown",
   "id": "8c42ef43-e3f6-417e-a740-2c96399a0aec",
   "metadata": {},
   "source": [
    "### Load a house"
   ]
  },
  {
   "cell_type": "code",
   "execution_count": null,
   "id": "fea25f4f-278e-4dca-9322-8a9d7e833a4c",
   "metadata": {},
   "outputs": [],
   "source": [
    "house = dataset[\"train\"][3]\n",
    "type(house), house.keys()"
   ]
  },
  {
   "cell_type": "code",
   "execution_count": null,
   "id": "98b644e9-9e08-47da-a2bf-eea7fa290e95",
   "metadata": {
    "scrolled": true
   },
   "outputs": [],
   "source": [
    "house[\"doors\"]"
   ]
  },
  {
   "cell_type": "markdown",
   "id": "66280ca2-6fa2-4e5a-b18e-91f161c49c18",
   "metadata": {},
   "source": [
    "### Visualize part of the house"
   ]
  },
  {
   "cell_type": "code",
   "execution_count": null,
   "id": "28bac9ad-576a-49a9-b749-bf5eb20ac421",
   "metadata": {
    "scrolled": true
   },
   "outputs": [],
   "source": [
    "controller = Controller(scene=house, headless=True, start_unity=False, width=500, height=500)"
   ]
  },
  {
   "cell_type": "code",
   "execution_count": null,
   "id": "b2353db5-f95b-43ce-89a9-0bf65e4fd623",
   "metadata": {},
   "outputs": [],
   "source": [
    "Image.fromarray(controller.last_event.frame)"
   ]
  },
  {
   "cell_type": "code",
   "execution_count": null,
   "id": "c1b224e4-b8c9-4a84-b31e-e108ba3a9bb5",
   "metadata": {},
   "outputs": [],
   "source": [
    "event = controller.step(action=\"LookUp\")\n",
    "Image.fromarray(event.frame)"
   ]
  },
  {
   "cell_type": "code",
   "execution_count": null,
   "id": "294eae97-4a0d-4fa0-b30b-42919eb27cdd",
   "metadata": {},
   "outputs": [],
   "source": [
    "event = controller.step(action=\"RotateRight\")\n",
    "Image.fromarray(event.frame)"
   ]
  },
  {
   "cell_type": "code",
   "execution_count": null,
   "id": "d7bf0d11-737a-421c-be16-7c9f91c95dde",
   "metadata": {},
   "outputs": [],
   "source": [
    "event = controller.step(action=\"RotateRight\")\n",
    "Image.fromarray(event.frame)"
   ]
  },
  {
   "cell_type": "code",
   "execution_count": null,
   "id": "c215e753-98c9-46dc-94b6-e9f4477d2780",
   "metadata": {},
   "outputs": [],
   "source": [
    "event = controller.step(action=\"RotateRight\")\n",
    "Image.fromarray(event.frame)"
   ]
  },
  {
   "cell_type": "code",
   "execution_count": null,
   "id": "76b76251-af2a-4e11-8b0a-28f608db16c8",
   "metadata": {},
   "outputs": [],
   "source": [
    "event = controller.step(action=\"RotateRight\")\n",
    "Image.fromarray(event.frame)"
   ]
  },
  {
   "cell_type": "markdown",
   "id": "9403da7d-e07a-448d-b536-8afb9e366c1a",
   "metadata": {},
   "source": [
    "### Visualize top-down map"
   ]
  },
  {
   "cell_type": "code",
   "execution_count": null,
   "id": "056d8b88-7a3c-4e59-9ebd-b4b531e3f802",
   "metadata": {},
   "outputs": [],
   "source": [
    "def get_top_down_frame():\n",
    "    # Setup the top-down camera\n",
    "    event = controller.step(action=\"GetMapViewCameraProperties\", raise_for_failure=True)\n",
    "    pose = copy.deepcopy(event.metadata[\"actionReturn\"])\n",
    "\n",
    "    bounds = event.metadata[\"sceneBounds\"][\"size\"]\n",
    "    max_bound = max(bounds[\"x\"], bounds[\"z\"])\n",
    "\n",
    "    pose[\"fieldOfView\"] = 50\n",
    "    pose[\"position\"][\"y\"] += 1.1 * max_bound\n",
    "    pose[\"orthographic\"] = False\n",
    "    pose[\"farClippingPlane\"] = 50\n",
    "    del pose[\"orthographicSize\"]\n",
    "\n",
    "    # add the camera to the scene\n",
    "    event = controller.step(\n",
    "        action=\"AddThirdPartyCamera\",\n",
    "        **pose,\n",
    "        skyboxColor=\"white\",\n",
    "        raise_for_failure=True,\n",
    "    )\n",
    "    top_down_frame = event.third_party_camera_frames[-1]\n",
    "    return Image.fromarray(top_down_frame)"
   ]
  },
  {
   "cell_type": "code",
   "execution_count": null,
   "id": "d55bc18d-c6a0-4f42-b229-f825a8c797e2",
   "metadata": {},
   "outputs": [],
   "source": [
    "get_top_down_frame()"
   ]
  },
  {
   "cell_type": "markdown",
   "id": "5d900e33-31d0-4226-8025-bcf6e65f2c56",
   "metadata": {},
   "source": [
    "### Get all reachable positions"
   ]
  },
  {
   "cell_type": "code",
   "execution_count": null,
   "id": "e1bb8f3d-f053-4a40-8f51-426895014f8f",
   "metadata": {
    "scrolled": true
   },
   "outputs": [],
   "source": [
    "event = controller.step(action=\"GetReachablePositions\")\n",
    "event.metadata[\"actionReturn\"]"
   ]
  },
  {
   "cell_type": "code",
   "execution_count": null,
   "id": "329a18a8-69ce-49fa-8283-b8aed5c5696a",
   "metadata": {},
   "outputs": [],
   "source": [
    "reachable_positions = event.metadata[\"actionReturn\"]\n",
    "xs = [rp[\"x\"] for rp in reachable_positions]\n",
    "zs = [rp[\"z\"] for rp in reachable_positions]\n",
    "\n",
    "fig, ax = plt.subplots(1, 1)\n",
    "ax.scatter(xs, zs)\n",
    "ax.set_xlabel(\"$x$\")\n",
    "ax.set_ylabel(\"$z$\")\n",
    "ax.set_title(\"Reachable Positions in the Scene\")\n",
    "ax.set_aspect(\"equal\")"
   ]
  },
  {
   "cell_type": "markdown",
   "id": "1dc9f4da-7946-4d07-917d-a01d3d57afdc",
   "metadata": {},
   "source": [
    "### Teleport agent to different positions in the environment"
   ]
  },
  {
   "cell_type": "code",
   "execution_count": null,
   "id": "c2f699ba-a60a-4212-9b3e-e965ba17f91f",
   "metadata": {},
   "outputs": [],
   "source": [
    "position = random.choice(reachable_positions)\n",
    "rotation = random.choice(range(360))\n",
    "print(\"Teleporting the agent to\", position, \" with rotation\", rotation)\n",
    "\n",
    "event = controller.step(action=\"Teleport\", position=position, rotation=rotation)\n",
    "Image.fromarray(event.frame)"
   ]
  },
  {
   "cell_type": "code",
   "execution_count": null,
   "id": "5a9133c6-dd91-4748-b431-5dbad80f4d08",
   "metadata": {},
   "outputs": [],
   "source": [
    "event = controller.step(action=\"Teleport\", position=position, rotation=rotation + 30)\n",
    "Image.fromarray(event.frame)"
   ]
  },
  {
   "cell_type": "code",
   "execution_count": null,
   "id": "e89dbb84-0a56-4f44-bcff-f8b565e26da5",
   "metadata": {},
   "outputs": [],
   "source": [
    "event = controller.step(action=\"Teleport\", position=position, rotation=rotation + 60)\n",
    "Image.fromarray(event.frame)"
   ]
  },
  {
   "cell_type": "code",
   "execution_count": null,
   "id": "0ebb2289-5fe3-4aea-91bd-f4f38c528d27",
   "metadata": {},
   "outputs": [],
   "source": [
    "event = controller.step(action=\"Teleport\", position=position, rotation=rotation + 90)\n",
    "Image.fromarray(event.frame)"
   ]
  },
  {
   "cell_type": "markdown",
   "id": "0059498a-ee5e-40ee-a5d0-2bcc1ed8d0b3",
   "metadata": {},
   "source": [
    "### Switch house"
   ]
  },
  {
   "cell_type": "code",
   "execution_count": null,
   "id": "a2c5081a-e8ae-411e-9782-4c8e32a2c446",
   "metadata": {},
   "outputs": [],
   "source": [
    "new_house = dataset[\"train\"][1]\n",
    "controller.reset(scene=new_house)\n",
    "\n",
    "get_top_down_frame()"
   ]
  }
 ],
 "metadata": {
  "kernelspec": {
   "display_name": "Python 3 (ipykernel)",
   "language": "python",
   "name": "python3"
  },
  "language_info": {
   "codemirror_mode": {
    "name": "ipython",
    "version": 3
   },
   "file_extension": ".py",
   "mimetype": "text/x-python",
   "name": "python",
   "nbconvert_exporter": "python",
   "pygments_lexer": "ipython3",
   "version": "3.9.21"
  }
 },
 "nbformat": 4,
 "nbformat_minor": 5
}
